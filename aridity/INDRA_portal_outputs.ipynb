{
 "cells": [
  {
   "cell_type": "markdown",
   "id": "bb427b81-6cb2-4095-aace-77755270464d",
   "metadata": {},
   "source": [
    "# INDRA portal outputs\n",
    "Preparing 2D (lat,lon) netcdf files for AI, SPI and rainfall 15th percentile for input to ACS INDRA web portal. Multi-model median values for each index are provided for each GWL and change."
   ]
  },
  {
   "cell_type": "code",
   "execution_count": 1,
   "id": "8297732f-a706-452a-87d0-cffdcb3f4a7c",
   "metadata": {
    "execution": {
     "iopub.execute_input": "2024-09-25T02:04:29.584792Z",
     "iopub.status.busy": "2024-09-25T02:04:29.584247Z",
     "iopub.status.idle": "2024-09-25T02:04:34.494913Z",
     "shell.execute_reply": "2024-09-25T02:04:34.493513Z",
     "shell.execute_reply.started": "2024-09-25T02:04:29.584739Z"
    }
   },
   "outputs": [
    {
     "data": {
      "text/plain": [
       "<xarray.core.options.set_options at 0x148faef4df30>"
      ]
     },
     "execution_count": 1,
     "metadata": {},
     "output_type": "execute_result"
    }
   ],
   "source": [
    "# import needed packages\n",
    "import xarray as xr\n",
    "import numpy as np\n",
    "import lib_david\n",
    "import pandas as pd\n",
    "\n",
    "# Suppress all warnings\n",
    "import warnings\n",
    "warnings.filterwarnings('ignore')\n",
    "\n",
    "#< Keep attributes from input datasets\n",
    "xr.set_options(keep_attrs = True)"
   ]
  },
  {
   "cell_type": "code",
   "execution_count": 2,
   "id": "45287793-8695-4112-8b90-3315f2ae3794",
   "metadata": {
    "execution": {
     "iopub.execute_input": "2024-09-25T02:04:34.498164Z",
     "iopub.status.busy": "2024-09-25T02:04:34.497264Z",
     "iopub.status.idle": "2024-09-25T02:04:40.456686Z",
     "shell.execute_reply": "2024-09-25T02:04:40.455748Z",
     "shell.execute_reply.started": "2024-09-25T02:04:34.498103Z"
    }
   },
   "outputs": [],
   "source": [
    "root_dir = \"/g/data/ia39/ncra/drought_aridity/\"\n",
    "gwl = [1.2,1.5,2.0,3.0]\n",
    "\n",
    "#< AGCD masking\n",
    "mask_ds_nhp1 = xr.open_dataset(\"/g/data/mn51/users/dh4185/agcd_v1-0-2_precip_weight_r005_daily_1975_2005fraction_ge1.nc\").sel(lat=slice(-44,-10),lon=slice(112,154))\n",
    "q_mask_nhp1 = np.ma.masked_greater(mask_ds_nhp1.fraction,0.8)\n",
    "\n",
    "mask_ds_acs = xr.open_dataset(\"/g/data/mn51/users/dh4185/agcd_v1-0-2_precip_weight_r005_daily_1960_2022fraction_ge1.nc\")\n",
    "q_mask_acs = np.ma.masked_greater(mask_ds_acs.fraction,0.8)"
   ]
  },
  {
   "cell_type": "code",
   "execution_count": 9,
   "id": "ab8a21ba-20d8-4521-85de-20e2de6dafee",
   "metadata": {
    "execution": {
     "iopub.execute_input": "2024-09-25T02:06:49.356934Z",
     "iopub.status.busy": "2024-09-25T02:06:49.356372Z",
     "iopub.status.idle": "2024-09-25T02:06:49.672290Z",
     "shell.execute_reply": "2024-09-25T02:06:49.671496Z",
     "shell.execute_reply.started": "2024-09-25T02:06:49.356883Z"
    }
   },
   "outputs": [],
   "source": [
    "# process AI absolute values\n",
    "for gwl_ in gwl:\n",
    "    ds = xr.open_dataset(f\"{root_dir}/ai/AI-atmospheric-based_NHP1-AUS-5_rcp85_bias-adjusted_2D_GWL{int(gwl_*10)}.nc\")\n",
    "    da = ds.median(\"model\").squeeze().where(q_mask_nhp1.mask)\n",
    "    del da.attrs[\"bias correction\"]\n",
    "    da.attrs[\"cell_methods\"] = \"multi-model median\"\n",
    "    da.where(q_mask_nhp1.mask).to_netcdf(f\"{root_dir}/INDRA_portal/AI-atmospheric-based_NHP1-AUS-5_rcp85_bias-adjusted_2D_GWL{int(gwl_*10)}_MM50p_INDRA.nc\")"
   ]
  },
  {
   "cell_type": "code",
   "execution_count": 10,
   "id": "e49062bc-6c91-46e6-a6f2-98cfc4d349b3",
   "metadata": {
    "execution": {
     "iopub.execute_input": "2024-09-25T02:10:28.243011Z",
     "iopub.status.busy": "2024-09-25T02:10:28.242607Z",
     "iopub.status.idle": "2024-09-25T02:10:28.409700Z",
     "shell.execute_reply": "2024-09-25T02:10:28.408686Z",
     "shell.execute_reply.started": "2024-09-25T02:10:28.242976Z"
    }
   },
   "outputs": [],
   "source": [
    "# process SPI\n",
    "for gwl_ in gwl:\n",
    "    ds = xr.open_dataset(f\"{root_dir}/spi/downscaled_BC_5km/SPI3_pct_time_below_-1_GWL_{gwl_}_ACS-QME-AGCD-1960-2022_percentiles_10-50-90.nc\")\n",
    "    da = ds.sel(quantile=0.5).where(q_mask_acs.mask)\n",
    "    da.attrs[\"cell_methods\"] = \"multi-model median\"\n",
    "    da.to_netcdf(f\"{root_dir}/INDRA_portal/SPI3_pct_time_below_-1_GWL_{gwl_}_ACS-QME-AGCD-1960-2022_MM50p_INDRA.nc\")"
   ]
  },
  {
   "cell_type": "code",
   "execution_count": 11,
   "id": "f0b9ba91-85cb-4040-9ae7-bfc618a4cda9",
   "metadata": {
    "execution": {
     "iopub.execute_input": "2024-09-25T02:10:28.528347Z",
     "iopub.status.busy": "2024-09-25T02:10:28.528110Z",
     "iopub.status.idle": "2024-09-25T02:10:29.608563Z",
     "shell.execute_reply": "2024-09-25T02:10:29.607503Z",
     "shell.execute_reply.started": "2024-09-25T02:10:28.528325Z"
    }
   },
   "outputs": [],
   "source": [
    "# process 15th rainfall percentile\n",
    "for gwl_ in gwl:\n",
    "    ds = xr.open_dataset(f\"{root_dir}/rainfall_percentiles/downscaled_BC_5km/p15_3month_GWL_{gwl_}_ACS-QME-AGCD-1960-2022_percentiles_10-50-90.nc\")\n",
    "    da = ds.mean(\"month\").sel(quantile=0.5).where(q_mask_acs.mask)\n",
    "    da.attrs[\"cell_methods\"] = \"multi-model median\"\n",
    "    da.to_netcdf(f\"{root_dir}/INDRA_portal/p15_3month_GWL_{gwl_}_ACS-QME-AGCD-1960-2022_MM50p_INDRA.nc\")\n"
   ]
  },
  {
   "cell_type": "code",
   "execution_count": null,
   "id": "7e62eab3-07df-42d1-b76d-07d04d7a4785",
   "metadata": {},
   "outputs": [],
   "source": []
  }
 ],
 "metadata": {
  "kernelspec": {
   "display_name": "Python [conda env:analysis3]",
   "language": "python",
   "name": "conda-env-analysis3-py"
  },
  "language_info": {
   "codemirror_mode": {
    "name": "ipython",
    "version": 3
   },
   "file_extension": ".py",
   "mimetype": "text/x-python",
   "name": "python",
   "nbconvert_exporter": "python",
   "pygments_lexer": "ipython3",
   "version": "3.10.14"
  }
 },
 "nbformat": 4,
 "nbformat_minor": 5
}
